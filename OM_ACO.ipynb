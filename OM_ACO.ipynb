{
  "nbformat": 4,
  "nbformat_minor": 0,
  "metadata": {
    "colab": {
      "provenance": [],
      "machine_shape": "hm",
      "gpuType": "A100",
      "authorship_tag": "ABX9TyOzP7tZpU0bp8uevApOf43A",
      "include_colab_link": true
    },
    "kernelspec": {
      "name": "python3",
      "display_name": "Python 3"
    },
    "language_info": {
      "name": "python"
    },
    "accelerator": "GPU"
  },
  "cells": [
    {
      "cell_type": "markdown",
      "metadata": {
        "id": "view-in-github",
        "colab_type": "text"
      },
      "source": [
        "<a href=\"https://colab.research.google.com/github/FayAljumah/Ant-Colony-Optimization-on-TaSch/blob/main/OM_ACO.ipynb\" target=\"_parent\"><img src=\"https://colab.research.google.com/assets/colab-badge.svg\" alt=\"Open In Colab\"/></a>"
      ]
    },
    {
      "cell_type": "markdown",
      "source": [
        "# **ACO**"
      ],
      "metadata": {
        "id": "Ur0-suwsX3M1"
      }
    },
    {
      "cell_type": "markdown",
      "source": [
        "# Simple Fixed Example"
      ],
      "metadata": {
        "id": "gSG7BctBlyNN"
      }
    },
    {
      "cell_type": "code",
      "execution_count": null,
      "metadata": {
        "colab": {
          "base_uri": "https://localhost:8080/"
        },
        "id": "Oi60EKETWR3D",
        "outputId": "dfd13432-fd9e-4e7c-f8ef-a630262ff9ff"
      },
      "outputs": [
        {
          "output_type": "stream",
          "name": "stdout",
          "text": [
            "Task Execution Times per VM:\n",
            "         VM_1  VM_2  VM_3  VM_4  VM_5\n",
            "Task_1     10     8    10     8     7\n",
            "Task_2      7     7     9     8     7\n",
            "Task_3      8     5     6     9     7\n",
            "Task_4      5    10     5     9     8\n",
            "Task_5      9     6     9    10     6\n",
            "Task_6     10     5     5     5    10\n",
            "Task_7      5     9    10     7     7\n",
            "Task_8      8     6     5     9     9\n",
            "Task_9      6     9     8    10     7\n",
            "Task_10     5     6     6     8     8\n",
            "Best Assignment: [4, 0, 3, 2, 1, 2, 0, 4, 1, 2]\n",
            "Best Makespan: 16.0\n",
            "Execution Time: 0.5188305377960205 seconds\n"
          ]
        }
      ],
      "source": [
        "import numpy as np\n",
        "import random\n",
        "import time\n",
        "import pandas as pd\n",
        "\n",
        "class AntColonyOptimization:\n",
        "    def __init__(self, num_tasks, num_vms, exec_times, num_ants=10, iterations=100, alpha=1, beta=2, evaporation=0.5):\n",
        "        self.num_tasks = num_tasks\n",
        "        self.num_vms = num_vms\n",
        "        self.exec_times = exec_times\n",
        "        self.num_ants = num_ants\n",
        "        self.iterations = iterations\n",
        "        self.alpha = alpha\n",
        "        self.beta = beta\n",
        "        self.evaporation = evaporation\n",
        "        self.pheromone = np.ones((num_tasks, num_vms))\n",
        "        self.best_solution = None\n",
        "        self.best_makespan = float('inf')\n",
        "\n",
        "    def probability(self, task, vm):\n",
        "        pheromone = self.pheromone[task, vm] ** self.alpha\n",
        "        heuristic = (1 / self.exec_times[task, vm]) ** self.beta\n",
        "        return pheromone * heuristic\n",
        "\n",
        "    def assign_tasks(self):\n",
        "        solutions = []\n",
        "        for _ in range(self.num_ants):\n",
        "            assignment = []\n",
        "            for task in range(self.num_tasks):\n",
        "                probabilities = [self.probability(task, vm) for vm in range(self.num_vms)]\n",
        "                probabilities /= np.sum(probabilities)\n",
        "                selected_vm = np.random.choice(self.num_vms, p=probabilities)\n",
        "                assignment.append(selected_vm)\n",
        "            solutions.append(assignment)\n",
        "        return solutions\n",
        "\n",
        "    def evaluate_solution(self, assignment):\n",
        "        vm_times = np.zeros(self.num_vms)\n",
        "        for task, vm in enumerate(assignment):\n",
        "            vm_times[vm] += self.exec_times[task, vm]\n",
        "        return max(vm_times)\n",
        "\n",
        "    def update_pheromone(self, solutions, makespans):\n",
        "        self.pheromone *= (1 - self.evaporation)\n",
        "        for assignment, makespan in zip(solutions, makespans):\n",
        "            contribution = 1.0 / makespan\n",
        "            for task, vm in enumerate(assignment):\n",
        "                self.pheromone[task, vm] += contribution\n",
        "\n",
        "    def optimize(self):\n",
        "        start_time = time.time()\n",
        "        for _ in range(self.iterations):\n",
        "            solutions = self.assign_tasks()\n",
        "            makespans = [self.evaluate_solution(sol) for sol in solutions]\n",
        "            best_idx = np.argmin(makespans)\n",
        "            if makespans[best_idx] < self.best_makespan:\n",
        "                self.best_makespan = makespans[best_idx]\n",
        "                self.best_solution = solutions[best_idx]\n",
        "            self.update_pheromone(solutions, makespans)\n",
        "        end_time = time.time()\n",
        "        execution_time = end_time - start_time\n",
        "        return self.best_solution, self.best_makespan, execution_time\n",
        "\n",
        "# Generate random execution times for tasks on VMs\n",
        "def generate_random_data(num_tasks, num_vms, min_time=5, max_time=10):\n",
        "    return np.random.randint(min_time, max_time + 1, size=(num_tasks, num_vms))\n",
        "\n",
        "# Example usage\n",
        "num_tasks = 10\n",
        "num_vms = 5\n",
        "exec_times = generate_random_data(num_tasks, num_vms)\n",
        "aco = AntColonyOptimization(num_tasks, num_vms, exec_times)\n",
        "best_solution, best_makespan, execution_time = aco.optimize()\n",
        "\n",
        "# Create a DataFrame for displaying task execution times per machine\n",
        "df = pd.DataFrame(exec_times, columns=[f\"VM_{j+1}\" for j in range(num_vms)], index=[f\"Task_{i+1}\" for i in range(num_tasks)])\n",
        "print(\"Task Execution Times per VM:\")\n",
        "print(df)\n",
        "\n",
        "print(\"Best Assignment:\", best_solution)\n",
        "print(\"Best Makespan:\", best_makespan)\n",
        "print(\"Execution Time:\", execution_time, \"seconds\")"
      ]
    },
    {
      "cell_type": "markdown",
      "source": [
        "# Simple Random Example"
      ],
      "metadata": {
        "id": "buVvbFrYlrvh"
      }
    },
    {
      "cell_type": "code",
      "source": [
        "# Example usage\n",
        "num_tasks = random.randint(10, 20)\n",
        "num_vms = random.randint(5, 10)\n",
        "exec_times = generate_random_data(num_tasks, num_vms)\n",
        "aco = AntColonyOptimization(num_tasks, num_vms, exec_times)\n",
        "best_solution, best_makespan, execution_time = aco.optimize()\n",
        "\n",
        "print(\"num_tasks:\", num_tasks)\n",
        "print(\"num_vms:\", num_vms)\n",
        "\n",
        "# Create a DataFrame for displaying task execution times per machine\n",
        "df = pd.DataFrame(exec_times, columns=[f\"VM_{j+1}\" for j in range(num_vms)], index=[f\"Task_{i+1}\" for i in range(num_tasks)])\n",
        "print(\"Task Execution Times per VM:\")\n",
        "print(df)\n",
        "\n",
        "print(\"Best Assignment:\", best_solution)\n",
        "print(\"Best Makespan:\", best_makespan)\n",
        "print(\"Execution Time:\", execution_time, \"seconds\")"
      ],
      "metadata": {
        "colab": {
          "base_uri": "https://localhost:8080/"
        },
        "id": "BoTBQke7ZN9Q",
        "outputId": "219707de-377f-422f-c628-1ff0b22dffee"
      },
      "execution_count": null,
      "outputs": [
        {
          "output_type": "stream",
          "name": "stdout",
          "text": [
            "num_tasks: 11\n",
            "num_vms: 6\n",
            "Task Execution Times per VM:\n",
            "         VM_1  VM_2  VM_3  VM_4  VM_5  VM_6\n",
            "Task_1      6     6     7     6     7     5\n",
            "Task_2      9     7     7    10    10     7\n",
            "Task_3      5     5     6     5     9     8\n",
            "Task_4      5    10     6     8     8     9\n",
            "Task_5      7     6     5     9     7     9\n",
            "Task_6      8     7     8     8     6     5\n",
            "Task_7      5     6     7     9     6     9\n",
            "Task_8      5     6     5     5     8    10\n",
            "Task_9      9     6     8     6     7    10\n",
            "Task_10     5     5    10    10     5    10\n",
            "Task_11     9     6    10     7     6     6\n",
            "Best Assignment: [5, 1, 3, 0, 2, 5, 0, 2, 3, 4, 4]\n",
            "Best Makespan: 11.0\n",
            "Execution Time: 0.7669034004211426 seconds\n"
          ]
        }
      ]
    },
    {
      "cell_type": "markdown",
      "source": [
        "# Like Prime Paper"
      ],
      "metadata": {
        "id": "LeP8Jbndlm-3"
      }
    },
    {
      "cell_type": "code",
      "source": [
        "import numpy as np\n",
        "import random\n",
        "import time\n",
        "import pandas as pd\n",
        "import matplotlib.pyplot as plt\n",
        "\n",
        "class AntColonyOptimization:\n",
        "    def __init__(self, num_tasks, num_vms, exec_times, num_ants=10, iterations=100, alpha=1, beta=2, evaporation=0.5):\n",
        "        self.num_tasks = num_tasks\n",
        "        self.num_vms = num_vms\n",
        "        self.exec_times = exec_times\n",
        "        self.num_ants = num_ants\n",
        "        self.iterations = iterations\n",
        "        self.alpha = alpha\n",
        "        self.beta = beta\n",
        "        self.evaporation = evaporation\n",
        "        self.pheromone = np.ones((num_tasks, num_vms))\n",
        "        self.best_solution = None\n",
        "        self.best_makespan = float('inf')\n",
        "\n",
        "    def probability(self, task, vm):\n",
        "        pheromone = self.pheromone[task, vm] ** self.alpha\n",
        "        heuristic = (1 / self.exec_times[task, vm]) ** self.beta\n",
        "        return pheromone * heuristic\n",
        "\n",
        "    def assign_tasks(self):\n",
        "        solutions = []\n",
        "        for _ in range(self.num_ants):\n",
        "            assignment = []\n",
        "            for task in range(self.num_tasks):\n",
        "                probabilities = [self.probability(task, vm) for vm in range(self.num_vms)]\n",
        "                probabilities /= np.sum(probabilities)\n",
        "                selected_vm = np.random.choice(self.num_vms, p=probabilities)\n",
        "                assignment.append(selected_vm)\n",
        "            solutions.append(assignment)\n",
        "        return solutions\n",
        "\n",
        "    def evaluate_solution(self, assignment):\n",
        "        vm_times = np.zeros(self.num_vms)\n",
        "        for task, vm in enumerate(assignment):\n",
        "            vm_times[vm] += self.exec_times[task, vm]\n",
        "        return max(vm_times)\n",
        "\n",
        "    def update_pheromone(self, solutions, makespans):\n",
        "        self.pheromone *= (1 - self.evaporation)\n",
        "        for assignment, makespan in zip(solutions, makespans):\n",
        "            contribution = 1.0 / makespan\n",
        "            for task, vm in enumerate(assignment):\n",
        "                self.pheromone[task, vm] += contribution\n",
        "\n",
        "    def optimize(self):\n",
        "        start_time = time.time()\n",
        "        for _ in range(self.iterations):\n",
        "            solutions = self.assign_tasks()\n",
        "            makespans = [self.evaluate_solution(sol) for sol in solutions]\n",
        "            best_idx = np.argmin(makespans)\n",
        "            if makespans[best_idx] < self.best_makespan:\n",
        "                self.best_makespan = makespans[best_idx]\n",
        "                self.best_solution = solutions[best_idx]\n",
        "            self.update_pheromone(solutions, makespans)\n",
        "        end_time = time.time()\n",
        "        execution_time = end_time - start_time\n",
        "        return self.best_solution, self.best_makespan, execution_time\n",
        "\n",
        "# Generate random execution times for tasks on VMs\n",
        "def generate_random_data(num_tasks, num_vms, min_time=1000, max_time=20000):\n",
        "    return np.random.randint(min_time, max_time + 1, size=(num_tasks, num_vms))\n",
        "\n",
        "# Run ACO for different task sizes\n",
        "num_tasks_range = np.arange(100, 1100, 100)  # From 100 to 1000\n",
        "num_vms = 50  # Fixed number of virtual machines\n",
        "aco_makespan = []\n",
        "\n",
        "for num_tasks in num_tasks_range:\n",
        "    exec_times = generate_random_data(num_tasks, num_vms)\n",
        "    aco = AntColonyOptimization(num_tasks, num_vms, exec_times)\n",
        "    _, best_makespan, _ = aco.optimize()\n",
        "    aco_makespan.append(best_makespan)\n",
        "\n",
        "# Plotting the results\n",
        "fig, ax = plt.subplots(figsize=(8, 5))\n",
        "ax.bar(num_tasks_range, aco_makespan, width=50, label='ACO', hatch='-', edgecolor='black')\n",
        "\n",
        "# Labels and Titles\n",
        "ax.set_xlabel(\"Number of Tasks\")\n",
        "ax.set_ylabel(\"Makespan\")\n",
        "ax.set_title(\"Average Makespan of ACO\")\n",
        "ax.legend()\n",
        "\n",
        "# Show the plot\n",
        "plt.show()"
      ],
      "metadata": {
        "colab": {
          "base_uri": "https://localhost:8080/",
          "height": 487
        },
        "id": "04P6DwOsgiVx",
        "outputId": "0cc7e52d-cbaa-48fb-9cde-5ac682dc17d9"
      },
      "execution_count": null,
      "outputs": [
        {
          "output_type": "display_data",
          "data": {
            "text/plain": [
              "<Figure size 800x500 with 1 Axes>"
            ],
            "image/png": "[encoded data removed]"
          },
          "metadata": {}
        }
      ]
    },
    {
      "cell_type": "markdown",
      "source": [
        "# Change Hyperparameters"
      ],
      "metadata": {
        "id": "f7lQYPLflbqj"
      }
    },
    {
      "cell_type": "code",
      "source": [
        "import numpy as np\n",
        "import random\n",
        "import time\n",
        "import pandas as pd\n",
        "import matplotlib.pyplot as plt\n",
        "\n",
        "class AntColonyOptimization:\n",
        "    def __init__(self, num_tasks, num_vms, exec_times, num_ants=10, iterations=100, alpha=0.3, beta=1, evaporation=0.4):\n",
        "        self.num_tasks = num_tasks\n",
        "        self.num_vms = num_vms\n",
        "        self.exec_times = exec_times\n",
        "        self.num_ants = num_ants\n",
        "        self.iterations = iterations\n",
        "        self.alpha = alpha\n",
        "        self.beta = beta\n",
        "        self.evaporation = evaporation\n",
        "        self.pheromone = np.ones((num_tasks, num_vms))\n",
        "        self.best_solution = None\n",
        "        self.best_makespan = float('inf')\n",
        "\n",
        "    def probability(self, task, vm):\n",
        "        pheromone = self.pheromone[task, vm] ** self.alpha\n",
        "        heuristic = (1 / self.exec_times[task, vm]) ** self.beta\n",
        "        return pheromone * heuristic\n",
        "\n",
        "    def assign_tasks(self):\n",
        "        solutions = []\n",
        "        for _ in range(self.num_ants):\n",
        "            assignment = []\n",
        "            for task in range(self.num_tasks):\n",
        "                probabilities = [self.probability(task, vm) for vm in range(self.num_vms)]\n",
        "                probabilities /= np.sum(probabilities)\n",
        "                selected_vm = np.random.choice(self.num_vms, p=probabilities)\n",
        "                assignment.append(selected_vm)\n",
        "            solutions.append(assignment)\n",
        "        return solutions\n",
        "\n",
        "    def evaluate_solution(self, assignment):\n",
        "        vm_times = np.zeros(self.num_vms)\n",
        "        for task, vm in enumerate(assignment):\n",
        "            vm_times[vm] += self.exec_times[task, vm]\n",
        "        return max(vm_times)\n",
        "\n",
        "    def update_pheromone(self, solutions, makespans):\n",
        "        self.pheromone *= (1 - self.evaporation)\n",
        "        for assignment, makespan in zip(solutions, makespans):\n",
        "            contribution = 1.0 / makespan\n",
        "            for task, vm in enumerate(assignment):\n",
        "                self.pheromone[task, vm] += contribution\n",
        "\n",
        "    def optimize(self):\n",
        "        start_time = time.time()\n",
        "        for _ in range(self.iterations):\n",
        "            solutions = self.assign_tasks()\n",
        "            makespans = [self.evaluate_solution(sol) for sol in solutions]\n",
        "            best_idx = np.argmin(makespans)\n",
        "            if makespans[best_idx] < self.best_makespan:\n",
        "                self.best_makespan = makespans[best_idx]\n",
        "                self.best_solution = solutions[best_idx]\n",
        "            self.update_pheromone(solutions, makespans)\n",
        "        end_time = time.time()\n",
        "        execution_time = end_time - start_time\n",
        "        return self.best_solution, self.best_makespan, execution_time\n",
        "\n",
        "# Generate random execution times for tasks on VMs\n",
        "def generate_random_data(num_tasks, num_vms, min_time=1000, max_time=20000):\n",
        "    return np.random.randint(min_time, max_time + 1, size=(num_tasks, num_vms))\n",
        "\n",
        "# Run ACO for different task sizes\n",
        "num_tasks_range = np.arange(100, 1100, 100)  # From 100 to 1000\n",
        "num_vms = 50  # Fixed number of virtual machines\n",
        "aco_makespan = []\n",
        "\n",
        "for num_tasks in num_tasks_range:\n",
        "    exec_times = generate_random_data(num_tasks, num_vms)\n",
        "    aco = AntColonyOptimization(num_tasks, num_vms, exec_times)\n",
        "    _, best_makespan, _ = aco.optimize()\n",
        "    aco_makespan.append(best_makespan)\n",
        "\n",
        "# Plotting the results\n",
        "fig, ax = plt.subplots(figsize=(8, 5))\n",
        "ax.bar(num_tasks_range, aco_makespan, width=50, label='ACO', hatch='-', edgecolor='black')\n",
        "\n",
        "# Labels and Titles\n",
        "ax.set_xlabel(\"Number of Tasks\")\n",
        "ax.set_ylabel(\"Makespan\")\n",
        "ax.set_title(\"Average Makespan of ACO\")\n",
        "ax.legend()\n",
        "\n",
        "# Show the plot\n",
        "plt.show()"
      ],
      "metadata": {
        "colab": {
          "base_uri": "https://localhost:8080/",
          "height": 487
        },
        "id": "NXLj38ylj6Y8",
        "outputId": "75e3198a-ab76-405b-c7c7-1f0b8c8f9e1a"
      },
      "execution_count": null,
      "outputs": [
        {
          "output_type": "display_data",
          "data": {
            "text/plain": [
              "<Figure size 800x500 with 1 Axes>"
            ],
            "image/png": "[encoded data removed]"
          },
          "metadata": {}
        }
      ]
    }
  ]
}